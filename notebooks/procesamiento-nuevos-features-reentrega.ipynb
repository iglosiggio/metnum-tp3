{
 "cells": [
  {
   "cell_type": "markdown",
   "id": "5b94de89",
   "metadata": {},
   "source": [
    "# Tratamiento de los datos agregados en la reentrega\n",
    "\n",
    "Para la reentrega vamos a considerar dos datos similares. \"Population using safely managed drinking-water services (%)\" y \"Population using safely managed sanitation services (%)\".\n",
    "\n",
    "En este notebook vamos a realizar el procesamiento inicial sobre estos datos. Cargándolos y calculando el promedio del período a considerar."
   ]
  },
  {
   "cell_type": "code",
   "execution_count": 1,
   "id": "1e8de38d",
   "metadata": {},
   "outputs": [],
   "source": [
    "# Cargamos las bibliotecas a usar\n",
    "import pandas as pd\n",
    "import seaborn as sns"
   ]
  },
  {
   "cell_type": "markdown",
   "id": "f740f2f0",
   "metadata": {},
   "source": [
    "## _\"Population using safely managed drinking-water services (%)\"_."
   ]
  },
  {
   "cell_type": "code",
   "execution_count": 2,
   "id": "2629096e",
   "metadata": {},
   "outputs": [
    {
     "data": {
      "text/html": [
       "<div>\n",
       "<style scoped>\n",
       "    .dataframe tbody tr th:only-of-type {\n",
       "        vertical-align: middle;\n",
       "    }\n",
       "\n",
       "    .dataframe tbody tr th {\n",
       "        vertical-align: top;\n",
       "    }\n",
       "\n",
       "    .dataframe thead th {\n",
       "        text-align: right;\n",
       "    }\n",
       "</style>\n",
       "<table border=\"1\" class=\"dataframe\">\n",
       "  <thead>\n",
       "    <tr style=\"text-align: right;\">\n",
       "      <th></th>\n",
       "      <th></th>\n",
       "      <th>Population using safely managed drinking-water services (%)</th>\n",
       "    </tr>\n",
       "    <tr>\n",
       "      <th>ParentLocation</th>\n",
       "      <th>Location</th>\n",
       "      <th></th>\n",
       "    </tr>\n",
       "  </thead>\n",
       "  <tbody>\n",
       "    <tr>\n",
       "      <th rowspan=\"5\" valign=\"top\">Africa</th>\n",
       "      <th>Algeria</th>\n",
       "      <td>73.660000</td>\n",
       "    </tr>\n",
       "    <tr>\n",
       "      <th>Angola</th>\n",
       "      <td>NaN</td>\n",
       "    </tr>\n",
       "    <tr>\n",
       "      <th>Benin</th>\n",
       "      <td>NaN</td>\n",
       "    </tr>\n",
       "    <tr>\n",
       "      <th>Botswana</th>\n",
       "      <td>NaN</td>\n",
       "    </tr>\n",
       "    <tr>\n",
       "      <th>Burkina Faso</th>\n",
       "      <td>NaN</td>\n",
       "    </tr>\n",
       "    <tr>\n",
       "      <th>...</th>\n",
       "      <th>...</th>\n",
       "      <td>...</td>\n",
       "    </tr>\n",
       "    <tr>\n",
       "      <th rowspan=\"5\" valign=\"top\">Western Pacific</th>\n",
       "      <th>Solomon Islands</th>\n",
       "      <td>NaN</td>\n",
       "    </tr>\n",
       "    <tr>\n",
       "      <th>Tonga</th>\n",
       "      <td>29.358125</td>\n",
       "    </tr>\n",
       "    <tr>\n",
       "      <th>Tuvalu</th>\n",
       "      <td>NaN</td>\n",
       "    </tr>\n",
       "    <tr>\n",
       "      <th>Vanuatu</th>\n",
       "      <td>NaN</td>\n",
       "    </tr>\n",
       "    <tr>\n",
       "      <th>Viet Nam</th>\n",
       "      <td>NaN</td>\n",
       "    </tr>\n",
       "  </tbody>\n",
       "</table>\n",
       "<p>196 rows × 1 columns</p>\n",
       "</div>"
      ],
      "text/plain": [
       "                                 Population using safely managed drinking-water services (%)\n",
       "ParentLocation  Location                                                                    \n",
       "Africa          Algeria                                                  73.660000          \n",
       "                Angola                                                         NaN          \n",
       "                Benin                                                          NaN          \n",
       "                Botswana                                                       NaN          \n",
       "                Burkina Faso                                                   NaN          \n",
       "...                                                                            ...          \n",
       "Western Pacific Solomon Islands                                                NaN          \n",
       "                Tonga                                                    29.358125          \n",
       "                Tuvalu                                                         NaN          \n",
       "                Vanuatu                                                        NaN          \n",
       "                Viet Nam                                                       NaN          \n",
       "\n",
       "[196 rows x 1 columns]"
      ]
     },
     "execution_count": 2,
     "metadata": {},
     "output_type": "execute_result"
    }
   ],
   "source": [
    "# Cargo todos los datos\n",
    "drinking_water = pd.read_csv('../data/crudos/safely-managed-drinking-water-services.csv')\n",
    "# Filtro sólo los resultados totales en el rango que me importa\n",
    "drinking_water = drinking_water[(drinking_water['Dim1'] == 'Total') & (drinking_water['Period'] <= 2015)]\n",
    "# Tomo sólo las columnas que me importan\n",
    "drinking_water = drinking_water[['ParentLocation', 'Location', 'FactValueNumeric']]\n",
    "# Saco el promedio de los datos\n",
    "# NOTA: El promedio es sobre los años para los cuales se informaron datos (osea se ignoran NaNs)\n",
    "drinking_water = drinking_water.groupby(['ParentLocation', 'Location']).mean()\n",
    "drinking_water.columns = ['Population using safely managed drinking-water services (%)']\n",
    "\n",
    "drinking_water"
   ]
  },
  {
   "cell_type": "markdown",
   "id": "979c7cca",
   "metadata": {},
   "source": [
    "Y... escribimos los resultados en un csv para que sea más fácil cargarlos en el futuro."
   ]
  },
  {
   "cell_type": "code",
   "execution_count": 3,
   "id": "26182aba",
   "metadata": {},
   "outputs": [
    {
     "name": "stdout",
     "output_type": "stream",
     "text": [
      "ParentLocation  Location                  Population using safely managed drinking-water services (%)\n",
      "Africa          Algeria                   73.66\n",
      "Africa          Angola                    \n",
      "Africa          Benin                     \n",
      "Africa          Botswana                  \n",
      "Africa          Burkina Faso              \n",
      "Africa          Burundi                   \n",
      "Africa          Cabo Verde                \n",
      "Africa          Cameroon                  \n",
      "Africa          Central African Republic  7.575\n"
     ]
    }
   ],
   "source": [
    "drinking_water.to_csv('../data/drinking-water-averaged.csv')\n",
    "\n",
    "# Se ve masomenos así\n",
    "!head ../data/drinking-water-averaged.csv | column -t -s ,"
   ]
  },
  {
   "cell_type": "markdown",
   "id": "484bc8c8",
   "metadata": {},
   "source": [
    "Una pregunta ¿Cómo se distribuyen las regiones con/sin datos?"
   ]
  },
  {
   "cell_type": "code",
   "execution_count": 4,
   "id": "4e57be5c",
   "metadata": {},
   "outputs": [
    {
     "data": {
      "text/html": [
       "<div>\n",
       "<style scoped>\n",
       "    .dataframe tbody tr th:only-of-type {\n",
       "        vertical-align: middle;\n",
       "    }\n",
       "\n",
       "    .dataframe tbody tr th {\n",
       "        vertical-align: top;\n",
       "    }\n",
       "\n",
       "    .dataframe thead th {\n",
       "        text-align: right;\n",
       "    }\n",
       "</style>\n",
       "<table border=\"1\" class=\"dataframe\">\n",
       "  <thead>\n",
       "    <tr style=\"text-align: right;\">\n",
       "      <th></th>\n",
       "      <th>Countries</th>\n",
       "      <th>with data</th>\n",
       "      <th>without data</th>\n",
       "    </tr>\n",
       "    <tr>\n",
       "      <th>ParentLocation</th>\n",
       "      <th></th>\n",
       "      <th></th>\n",
       "      <th></th>\n",
       "    </tr>\n",
       "  </thead>\n",
       "  <tbody>\n",
       "    <tr>\n",
       "      <th>Africa</th>\n",
       "      <td>47</td>\n",
       "      <td>19</td>\n",
       "      <td>28</td>\n",
       "    </tr>\n",
       "    <tr>\n",
       "      <th>Americas</th>\n",
       "      <td>36</td>\n",
       "      <td>14</td>\n",
       "      <td>22</td>\n",
       "    </tr>\n",
       "    <tr>\n",
       "      <th>Eastern Mediterranean</th>\n",
       "      <td>22</td>\n",
       "      <td>13</td>\n",
       "      <td>9</td>\n",
       "    </tr>\n",
       "    <tr>\n",
       "      <th>Europe</th>\n",
       "      <td>53</td>\n",
       "      <td>52</td>\n",
       "      <td>1</td>\n",
       "    </tr>\n",
       "    <tr>\n",
       "      <th>South-East Asia</th>\n",
       "      <td>11</td>\n",
       "      <td>5</td>\n",
       "      <td>6</td>\n",
       "    </tr>\n",
       "    <tr>\n",
       "      <th>Western Pacific</th>\n",
       "      <td>27</td>\n",
       "      <td>14</td>\n",
       "      <td>13</td>\n",
       "    </tr>\n",
       "  </tbody>\n",
       "</table>\n",
       "</div>"
      ],
      "text/plain": [
       "                       Countries  with data  without data\n",
       "ParentLocation                                           \n",
       "Africa                        47         19            28\n",
       "Americas                      36         14            22\n",
       "Eastern Mediterranean         22         13             9\n",
       "Europe                        53         52             1\n",
       "South-East Asia               11          5             6\n",
       "Western Pacific               27         14            13"
      ]
     },
     "execution_count": 4,
     "metadata": {},
     "output_type": "execute_result"
    }
   ],
   "source": [
    "def compare_with_and_without_data(df, column):\n",
    "    # Tomo los países sin data\n",
    "    countries_without_data_per_region = df[df[column].isna()]\n",
    "    # Agarro sólo las columnas que me interesan\n",
    "    countries_without_data_per_region = countries_without_data_per_region[['ParentLocation', 'Location']]\n",
    "    # Agrupo y cuento la cantidad de países\n",
    "    countries_without_data_per_region = countries_without_data_per_region.groupby('ParentLocation').count()\n",
    "    # Renombro la columna\n",
    "    countries_without_data_per_region.columns = ['without data']\n",
    "\n",
    "    # Tomo los países con data\n",
    "    countries_with_data_per_region = df[~ df[column].isna()]\n",
    "    # Agarro sólo las columnas que me interesan\n",
    "    countries_with_data_per_region = countries_with_data_per_region[['ParentLocation', 'Location']]\n",
    "    # Agrupo y cuento la cantidad de países\n",
    "    countries_with_data_per_region = countries_with_data_per_region.groupby('ParentLocation').count()\n",
    "    # Renombro la columna\n",
    "    countries_with_data_per_region.columns = ['with data']\n",
    "\n",
    "    # Tomo todos los países y agarro sólo las columnas que me interesan\n",
    "    countries_per_region = df[['ParentLocation', 'Location']]\n",
    "    # Agrupo y cuento la cantidad de países\n",
    "    countries_per_region = countries_per_region.groupby('ParentLocation').count()\n",
    "    # Renombro la columna\n",
    "    countries_per_region.columns = ['Countries']\n",
    "\n",
    "    return countries_per_region.join([countries_with_data_per_region, countries_without_data_per_region])\n",
    "\n",
    "compare_with_and_without_data(drinking_water.reset_index(), 'Population using safely managed drinking-water services (%)')"
   ]
  },
  {
   "cell_type": "markdown",
   "id": "cc6654a6",
   "metadata": {},
   "source": [
    "Finalmente, miremos un poco la distribución de los datos:"
   ]
  },
  {
   "cell_type": "code",
   "execution_count": 5,
   "id": "37e435b4",
   "metadata": {},
   "outputs": [
    {
     "data": {
      "text/plain": [
       "<matplotlib.axes._subplots.AxesSubplot at 0x7fcbaf5b4700>"
      ]
     },
     "execution_count": 5,
     "metadata": {},
     "output_type": "execute_result"
    },
    {
     "data": {
      "image/png": "[encoded data removed]",
      "text/plain": [
       "<Figure size 432x288 with 1 Axes>"
      ]
     },
     "metadata": {
      "needs_background": "light"
     },
     "output_type": "display_data"
    }
   ],
   "source": [
    "sns.kdeplot(data=drinking_water,\n",
    "             x='Population using safely managed drinking-water services (%)',\n",
    "             hue='ParentLocation',\n",
    "             cut=0,\n",
    "             multiple='stack')"
   ]
  },
  {
   "cell_type": "code",
   "execution_count": 14,
   "id": "f63ad30c",
   "metadata": {},
   "outputs": [
    {
     "data": {
      "text/plain": [
       "<matplotlib.axes._subplots.AxesSubplot at 0x7fcbdf925520>"
      ]
     },
     "execution_count": 14,
     "metadata": {},
     "output_type": "execute_result"
    },
    {
     "data": {
      "image/png": "[encoded data removed]",
      "text/plain": [
       "<Figure size 432x288 with 1 Axes>"
      ]
     },
     "metadata": {
      "needs_background": "light"
     },
     "output_type": "display_data"
    }
   ],
   "source": [
    "sns.histplot(data=drinking_water,\n",
    "             x='Population using safely managed drinking-water services (%)',\n",
    "             hue='ParentLocation',\n",
    "             multiple='stack',\n",
    "             bins=20)"
   ]
  },
  {
   "cell_type": "markdown",
   "id": "07305935",
   "metadata": {},
   "source": [
    "## _\"Population using safely managed sanitation services (%)\"_"
   ]
  },
  {
   "cell_type": "code",
   "execution_count": 7,
   "id": "24fd70a5",
   "metadata": {},
   "outputs": [
    {
     "data": {
      "text/html": [
       "<div>\n",
       "<style scoped>\n",
       "    .dataframe tbody tr th:only-of-type {\n",
       "        vertical-align: middle;\n",
       "    }\n",
       "\n",
       "    .dataframe tbody tr th {\n",
       "        vertical-align: top;\n",
       "    }\n",
       "\n",
       "    .dataframe thead th {\n",
       "        text-align: right;\n",
       "    }\n",
       "</style>\n",
       "<table border=\"1\" class=\"dataframe\">\n",
       "  <thead>\n",
       "    <tr style=\"text-align: right;\">\n",
       "      <th></th>\n",
       "      <th></th>\n",
       "      <th>Population using safely managed sanitation services (%)</th>\n",
       "    </tr>\n",
       "    <tr>\n",
       "      <th>ParentLocation</th>\n",
       "      <th>Location</th>\n",
       "      <th></th>\n",
       "    </tr>\n",
       "  </thead>\n",
       "  <tbody>\n",
       "    <tr>\n",
       "      <th rowspan=\"5\" valign=\"top\">Africa</th>\n",
       "      <th>Algeria</th>\n",
       "      <td>20.226250</td>\n",
       "    </tr>\n",
       "    <tr>\n",
       "      <th>Angola</th>\n",
       "      <td>NaN</td>\n",
       "    </tr>\n",
       "    <tr>\n",
       "      <th>Benin</th>\n",
       "      <td>NaN</td>\n",
       "    </tr>\n",
       "    <tr>\n",
       "      <th>Botswana</th>\n",
       "      <td>NaN</td>\n",
       "    </tr>\n",
       "    <tr>\n",
       "      <th>Burkina Faso</th>\n",
       "      <td>NaN</td>\n",
       "    </tr>\n",
       "    <tr>\n",
       "      <th>...</th>\n",
       "      <th>...</th>\n",
       "      <td>...</td>\n",
       "    </tr>\n",
       "    <tr>\n",
       "      <th rowspan=\"5\" valign=\"top\">Western Pacific</th>\n",
       "      <th>Solomon Islands</th>\n",
       "      <td>NaN</td>\n",
       "    </tr>\n",
       "    <tr>\n",
       "      <th>Tonga</th>\n",
       "      <td>34.761875</td>\n",
       "    </tr>\n",
       "    <tr>\n",
       "      <th>Tuvalu</th>\n",
       "      <td>5.577333</td>\n",
       "    </tr>\n",
       "    <tr>\n",
       "      <th>Vanuatu</th>\n",
       "      <td>NaN</td>\n",
       "    </tr>\n",
       "    <tr>\n",
       "      <th>Viet Nam</th>\n",
       "      <td>NaN</td>\n",
       "    </tr>\n",
       "  </tbody>\n",
       "</table>\n",
       "<p>196 rows × 1 columns</p>\n",
       "</div>"
      ],
      "text/plain": [
       "                                 Population using safely managed sanitation services (%)\n",
       "ParentLocation  Location                                                                \n",
       "Africa          Algeria                                                  20.226250      \n",
       "                Angola                                                         NaN      \n",
       "                Benin                                                          NaN      \n",
       "                Botswana                                                       NaN      \n",
       "                Burkina Faso                                                   NaN      \n",
       "...                                                                            ...      \n",
       "Western Pacific Solomon Islands                                                NaN      \n",
       "                Tonga                                                    34.761875      \n",
       "                Tuvalu                                                    5.577333      \n",
       "                Vanuatu                                                        NaN      \n",
       "                Viet Nam                                                       NaN      \n",
       "\n",
       "[196 rows x 1 columns]"
      ]
     },
     "execution_count": 7,
     "metadata": {},
     "output_type": "execute_result"
    }
   ],
   "source": [
    "# Cargo todos los datos\n",
    "sanitation_services = pd.read_csv('../data/crudos/safely-managed-sanitation-services.csv')\n",
    "# Filtro sólo los resultados totales en el rango que me importa\n",
    "sanitation_services = sanitation_services[(sanitation_services['Dim1'] == 'Total') & (sanitation_services['Period'] <= 2015)]\n",
    "# Tomo sólo las columnas que me importan\n",
    "sanitation_services = sanitation_services[['ParentLocation', 'Location', 'FactValueNumeric']]\n",
    "# Saco el promedio de los datos\n",
    "# NOTA: El promedio es sobre los años para los cuales se informaron datos (osea se ignoran NaNs)\n",
    "sanitation_services = sanitation_services.groupby(['ParentLocation', 'Location']).mean()\n",
    "sanitation_services.columns = ['Population using safely managed sanitation services (%)']\n",
    "\n",
    "sanitation_services"
   ]
  },
  {
   "cell_type": "markdown",
   "id": "4a3d8c6c",
   "metadata": {},
   "source": [
    "Tomemos una vista rápida a qué datos nos faltan:"
   ]
  },
  {
   "cell_type": "code",
   "execution_count": 8,
   "id": "0f64162a",
   "metadata": {},
   "outputs": [
    {
     "data": {
      "text/html": [
       "<div>\n",
       "<style scoped>\n",
       "    .dataframe tbody tr th:only-of-type {\n",
       "        vertical-align: middle;\n",
       "    }\n",
       "\n",
       "    .dataframe tbody tr th {\n",
       "        vertical-align: top;\n",
       "    }\n",
       "\n",
       "    .dataframe thead th {\n",
       "        text-align: right;\n",
       "    }\n",
       "</style>\n",
       "<table border=\"1\" class=\"dataframe\">\n",
       "  <thead>\n",
       "    <tr style=\"text-align: right;\">\n",
       "      <th></th>\n",
       "      <th>Countries</th>\n",
       "      <th>with data</th>\n",
       "      <th>without data</th>\n",
       "    </tr>\n",
       "    <tr>\n",
       "      <th>ParentLocation</th>\n",
       "      <th></th>\n",
       "      <th></th>\n",
       "      <th></th>\n",
       "    </tr>\n",
       "  </thead>\n",
       "  <tbody>\n",
       "    <tr>\n",
       "      <th>Africa</th>\n",
       "      <td>47</td>\n",
       "      <td>20</td>\n",
       "      <td>27</td>\n",
       "    </tr>\n",
       "    <tr>\n",
       "      <th>Americas</th>\n",
       "      <td>36</td>\n",
       "      <td>16</td>\n",
       "      <td>20</td>\n",
       "    </tr>\n",
       "    <tr>\n",
       "      <th>Eastern Mediterranean</th>\n",
       "      <td>22</td>\n",
       "      <td>16</td>\n",
       "      <td>6</td>\n",
       "    </tr>\n",
       "    <tr>\n",
       "      <th>Europe</th>\n",
       "      <td>53</td>\n",
       "      <td>48</td>\n",
       "      <td>5</td>\n",
       "    </tr>\n",
       "    <tr>\n",
       "      <th>South-East Asia</th>\n",
       "      <td>11</td>\n",
       "      <td>6</td>\n",
       "      <td>5</td>\n",
       "    </tr>\n",
       "    <tr>\n",
       "      <th>Western Pacific</th>\n",
       "      <td>27</td>\n",
       "      <td>14</td>\n",
       "      <td>13</td>\n",
       "    </tr>\n",
       "  </tbody>\n",
       "</table>\n",
       "</div>"
      ],
      "text/plain": [
       "                       Countries  with data  without data\n",
       "ParentLocation                                           \n",
       "Africa                        47         20            27\n",
       "Americas                      36         16            20\n",
       "Eastern Mediterranean         22         16             6\n",
       "Europe                        53         48             5\n",
       "South-East Asia               11          6             5\n",
       "Western Pacific               27         14            13"
      ]
     },
     "execution_count": 8,
     "metadata": {},
     "output_type": "execute_result"
    }
   ],
   "source": [
    "compare_with_and_without_data(sanitation_services.reset_index(), 'Population using safely managed sanitation services (%)')"
   ]
  },
  {
   "cell_type": "markdown",
   "id": "a68dfb21",
   "metadata": {},
   "source": [
    "Igual que antes, escribimos un csv para poder usar más en el análisis exploratorio."
   ]
  },
  {
   "cell_type": "code",
   "execution_count": 9,
   "id": "ae081d80",
   "metadata": {},
   "outputs": [
    {
     "name": "stdout",
     "output_type": "stream",
     "text": [
      "ParentLocation  Location                  Population using safely managed sanitation services (%)\n",
      "Africa          Algeria                   20.22625\n",
      "Africa          Angola                    \n",
      "Africa          Benin                     \n",
      "Africa          Botswana                  \n",
      "Africa          Burkina Faso              \n",
      "Africa          Burundi                   \n",
      "Africa          Cabo Verde                \n",
      "Africa          Cameroon                  \n",
      "Africa          Central African Republic  17.93125\n"
     ]
    }
   ],
   "source": [
    "sanitation_services.to_csv('../data/sanitation-services-averaged.csv')\n",
    "\n",
    "# Se ve masomenos así\n",
    "!head ../data/sanitation-services-averaged.csv | column -t -s ,"
   ]
  },
  {
   "cell_type": "markdown",
   "id": "660041e6",
   "metadata": {},
   "source": [
    "Y para cerrar otro histplot para mirar la distribución de los datos:"
   ]
  },
  {
   "cell_type": "code",
   "execution_count": 10,
   "id": "57428506",
   "metadata": {},
   "outputs": [
    {
     "data": {
      "text/plain": [
       "<matplotlib.axes._subplots.AxesSubplot at 0x7fcbdfcfa040>"
      ]
     },
     "execution_count": 10,
     "metadata": {},
     "output_type": "execute_result"
    },
    {
     "data": {
      "image/png": "[encoded data removed]",
      "text/plain": [
       "<Figure size 432x288 with 1 Axes>"
      ]
     },
     "metadata": {
      "needs_background": "light"
     },
     "output_type": "display_data"
    }
   ],
   "source": [
    "sns.kdeplot(data=sanitation_services,\n",
    "             x='Population using safely managed sanitation services (%)',\n",
    "             hue='ParentLocation',\n",
    "             cut=0,\n",
    "             multiple='stack')"
   ]
  },
  {
   "cell_type": "code",
   "execution_count": 11,
   "id": "28fe6e0f",
   "metadata": {},
   "outputs": [
    {
     "data": {
      "text/plain": [
       "<matplotlib.axes._subplots.AxesSubplot at 0x7fcbdfce70a0>"
      ]
     },
     "execution_count": 11,
     "metadata": {},
     "output_type": "execute_result"
    },
    {
     "data": {
      "image/png": "[encoded data removed]",
      "text/plain": [
       "<Figure size 432x288 with 1 Axes>"
      ]
     },
     "metadata": {
      "needs_background": "light"
     },
     "output_type": "display_data"
    }
   ],
   "source": [
    "sns.histplot(data=sanitation_services,\n",
    "             x='Population using safely managed sanitation services (%)',\n",
    "             hue='ParentLocation',\n",
    "             multiple='stack',\n",
    "             bins=20)"
   ]
  }
 ],
 "metadata": {
  "kernelspec": {
   "display_name": "Python 3 (ipykernel)",
   "language": "python",
   "name": "python3"
  },
  "language_info": {
   "codemirror_mode": {
    "name": "ipython",
    "version": 3
   },
   "file_extension": ".py",
   "mimetype": "text/x-python",
   "name": "python",
   "nbconvert_exporter": "python",
   "pygments_lexer": "ipython3",
   "version": "3.9.7"
  }
 },
 "nbformat": 4,
 "nbformat_minor": 5
}
